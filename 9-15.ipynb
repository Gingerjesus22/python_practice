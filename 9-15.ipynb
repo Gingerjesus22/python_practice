{
 "cells": [
  {
   "cell_type": "code",
   "execution_count": 1,
   "id": "56752a73-ca6c-4a9b-a461-2dca4fbbdddb",
   "metadata": {},
   "outputs": [],
   "source": [
    "def are_you_ready():\n",
    "    start = input('are you ready? (y/n)')\n",
    "    if start == 'y':\n",
    "        opening()\n",
    "    elif start == 'n':\n",
    "            print('you cannot say no')\n"
   ]
  },
  {
   "cell_type": "code",
   "execution_count": 3,
   "id": "a7656047-526f-4630-9b2c-3c52a3ec05af",
   "metadata": {},
   "outputs": [],
   "source": [
    "def draw(list, vallist):\n",
    "    face = random.randint(1,3)\n",
    "    val = random.randint(2,11)\n",
    "    vallist.append(val)\n",
    "    if val == 11:\n",
    "        card = 'A'\n",
    "    elif val == 10:\n",
    "        if face == 1:\n",
    "            card = 'K'\n",
    "        elif face == 2:\n",
    "            card = 'Q'\n",
    "        elif face == 3:\n",
    "            card = 'J'   \n",
    "    elif val != 10 or 11:\n",
    "        card = val \n",
    "    list.append(card)\n",
    "    "
   ]
  },
  {
   "cell_type": "code",
   "execution_count": 5,
   "id": "f5d378e2-5f27-40f1-8abd-a69bd7f0bfe7",
   "metadata": {},
   "outputs": [],
   "source": [
    "def opening():\n",
    "    draw(pcards,pvallist)\n",
    "    draw(pcards,pvallist)\n",
    "    draw(dcards,dvallist)\n",
    "    draw(dcards,dvallist)\n",
    "    print(f'your cards:{pcards} dealer cards:{dcards}')"
   ]
  },
  {
   "cell_type": "code",
   "execution_count": 9,
   "id": "9245f879-2e02-473c-9d96-2a26aca5888d",
   "metadata": {},
   "outputs": [],
   "source": [
    "def hit(list,vallist):\n",
    "    stand = False\n",
    "\n",
    "    while not stand:\n",
    "        \n",
    "        if sum(pvallist)>21:\n",
    "            if 'A' in pcards:\n",
    "                pvallist.append(-10)\n",
    "            else:\n",
    "                print('You Bust')\n",
    "                pvallist.append(-1000)\n",
    "                print(f'your cards:{pcards} dealer cards:{dcards}')\n",
    "        hit = input('Hit or Stand?')\n",
    "        if hit in 'hit':\n",
    "            draw(list,vallist)\n",
    "            print(f'your cards:{pcards} dealer cards:{dcards}')\n",
    "        if hit in 'stand':\n",
    "            stand = True"
   ]
  },
  {
   "cell_type": "code",
   "execution_count": 11,
   "id": "67eba2b5-014f-468f-ad4c-7d9454c696ba",
   "metadata": {},
   "outputs": [],
   "source": [
    "def dhit(list,vallist):\n",
    "\n",
    "    while sum(dvallist)<17:\n",
    "        draw(list,vallist)\n",
    "        if sum(dvallist)>21:\n",
    "                if 'A' in dcards:\n",
    "                    dvallist.append(-10)\n",
    "                else:\n",
    "                    print('Dealer Busts')\n",
    "                    dvallist.append(-1000)\n",
    "                    print(f'your cards:{pcards} dealer cards:{dcards}')\n",
    "        else:\n",
    "            print(f'your cards:{pcards} dealer cards:{dcards}')\n",
    "        "
   ]
  },
  {
   "cell_type": "code",
   "execution_count": 21,
   "id": "6bf0b3ba-425c-4b25-9556-bb86093ddb86",
   "metadata": {},
   "outputs": [],
   "source": [
    "def blackjack():\n",
    "    are_you_ready()\n",
    "    \n",
    "    hit(pcards,pvallist)\n",
    "    dhit(dcards,dvallist)\n",
    "    print(f'you have: {sum(pvallist)} dealer has: {sum(dvallist)}')\n",
    "    if sum(pvallist) > sum(dvallist):\n",
    "        print('You Win!')\n",
    "    elif sum(pvallist) == sum(dvallist):\n",
    "        print('Push')\n",
    "    else:\n",
    "        print('Dealer wins')\n",
    "    \n",
    "    "
   ]
  },
  {
   "cell_type": "code",
   "execution_count": 43,
   "id": "d6d3137c-ceed-4d11-a362-c26058882329",
   "metadata": {},
   "outputs": [
    {
     "name": "stdin",
     "output_type": "stream",
     "text": [
      "are you ready? (y/n) y\n"
     ]
    },
    {
     "name": "stdout",
     "output_type": "stream",
     "text": [
      "your cards:[5, 3] dealer cards:[4, 'A']\n"
     ]
    },
    {
     "name": "stdin",
     "output_type": "stream",
     "text": [
      "Hit or Stand? hit\n"
     ]
    },
    {
     "name": "stdout",
     "output_type": "stream",
     "text": [
      "your cards:[5, 3, 'K'] dealer cards:[4, 'A']\n"
     ]
    },
    {
     "name": "stdin",
     "output_type": "stream",
     "text": [
      "Hit or Stand? stand\n"
     ]
    },
    {
     "name": "stdout",
     "output_type": "stream",
     "text": [
      "your cards:[5, 3, 'K'] dealer cards:[4, 'A', 3]\n",
      "you have: 18 dealer has: 18\n",
      "Push\n"
     ]
    }
   ],
   "source": [
    "blackjack()"
   ]
  },
  {
   "cell_type": "code",
   "execution_count": 41,
   "id": "36c0a205-85d9-4b11-baf4-c639322648f5",
   "metadata": {},
   "outputs": [],
   "source": [
    "\n",
    "    pvallist = []\n",
    "    dvallist = []\n",
    "    pcards = []\n",
    "    dcards = []"
   ]
  },
  {
   "cell_type": "code",
   "execution_count": 17,
   "id": "25d412fa-7659-4576-972c-79c538fba0f9",
   "metadata": {},
   "outputs": [
    {
     "data": {
      "text/plain": [
       "[]"
      ]
     },
     "execution_count": 17,
     "metadata": {},
     "output_type": "execute_result"
    }
   ],
   "source": [
    "pvallist"
   ]
  },
  {
   "cell_type": "code",
   "execution_count": 25,
   "id": "1148e6d0-138d-4521-9ace-dbe7eb493504",
   "metadata": {},
   "outputs": [],
   "source": [
    "import random "
   ]
  },
  {
   "cell_type": "code",
   "execution_count": null,
   "id": "91f94e53-efba-474a-8e6d-164d55d864b7",
   "metadata": {},
   "outputs": [],
   "source": []
  }
 ],
 "metadata": {
  "kernelspec": {
   "display_name": "Python 3 (ipykernel)",
   "language": "python",
   "name": "python3"
  },
  "language_info": {
   "codemirror_mode": {
    "name": "ipython",
    "version": 3
   },
   "file_extension": ".py",
   "mimetype": "text/x-python",
   "name": "python",
   "nbconvert_exporter": "python",
   "pygments_lexer": "ipython3",
   "version": "3.12.4"
  }
 },
 "nbformat": 4,
 "nbformat_minor": 5
}
